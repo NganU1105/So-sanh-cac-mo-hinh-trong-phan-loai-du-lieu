{
 "cells": [
  {
   "cell_type": "code",
   "execution_count": 77,
   "id": "74100545",
   "metadata": {
    "scrolled": true
   },
   "outputs": [],
   "source": [
    "from matplotlib import pyplot as plt\n",
    "import pandas as pd\n",
    "import seaborn as sns\n",
    "import numpy as np\n",
    "%matplotlib inline\n",
    "import warnings\n",
    "warnings.filterwarnings('ignore')\n",
    "import os\n",
    "os.chdir('E:\\mining\\HOC\\KI II NAM 3\\DE AN 2')"
   ]
  },
  {
   "cell_type": "code",
   "execution_count": 78,
   "id": "d9674696",
   "metadata": {
    "scrolled": true
   },
   "outputs": [
    {
     "data": {
      "text/html": [
       "<div>\n",
       "<style scoped>\n",
       "    .dataframe tbody tr th:only-of-type {\n",
       "        vertical-align: middle;\n",
       "    }\n",
       "\n",
       "    .dataframe tbody tr th {\n",
       "        vertical-align: top;\n",
       "    }\n",
       "\n",
       "    .dataframe thead th {\n",
       "        text-align: right;\n",
       "    }\n",
       "</style>\n",
       "<table border=\"1\" class=\"dataframe\">\n",
       "  <thead>\n",
       "    <tr style=\"text-align: right;\">\n",
       "      <th></th>\n",
       "      <th>Age</th>\n",
       "      <th>Sex</th>\n",
       "      <th>Income</th>\n",
       "      <th>Family</th>\n",
       "      <th>CCAvg</th>\n",
       "      <th>Education</th>\n",
       "      <th>Mortgage</th>\n",
       "      <th>Securities Account</th>\n",
       "      <th>CD Account</th>\n",
       "      <th>Online</th>\n",
       "      <th>CreditCard</th>\n",
       "      <th>Personal Loan</th>\n",
       "    </tr>\n",
       "  </thead>\n",
       "  <tbody>\n",
       "    <tr>\n",
       "      <th>0</th>\n",
       "      <td>25</td>\n",
       "      <td>Female</td>\n",
       "      <td>49</td>\n",
       "      <td>4</td>\n",
       "      <td>1.6</td>\n",
       "      <td>1</td>\n",
       "      <td>0</td>\n",
       "      <td>1</td>\n",
       "      <td>0</td>\n",
       "      <td>0</td>\n",
       "      <td>0</td>\n",
       "      <td>0</td>\n",
       "    </tr>\n",
       "    <tr>\n",
       "      <th>1</th>\n",
       "      <td>45</td>\n",
       "      <td>Male</td>\n",
       "      <td>34</td>\n",
       "      <td>3</td>\n",
       "      <td>1.5</td>\n",
       "      <td>1</td>\n",
       "      <td>0</td>\n",
       "      <td>1</td>\n",
       "      <td>0</td>\n",
       "      <td>0</td>\n",
       "      <td>0</td>\n",
       "      <td>0</td>\n",
       "    </tr>\n",
       "    <tr>\n",
       "      <th>2</th>\n",
       "      <td>39</td>\n",
       "      <td>Female</td>\n",
       "      <td>11</td>\n",
       "      <td>1</td>\n",
       "      <td>1.0</td>\n",
       "      <td>1</td>\n",
       "      <td>0</td>\n",
       "      <td>0</td>\n",
       "      <td>0</td>\n",
       "      <td>0</td>\n",
       "      <td>0</td>\n",
       "      <td>0</td>\n",
       "    </tr>\n",
       "    <tr>\n",
       "      <th>3</th>\n",
       "      <td>35</td>\n",
       "      <td>Female</td>\n",
       "      <td>100</td>\n",
       "      <td>1</td>\n",
       "      <td>2.7</td>\n",
       "      <td>2</td>\n",
       "      <td>0</td>\n",
       "      <td>0</td>\n",
       "      <td>0</td>\n",
       "      <td>0</td>\n",
       "      <td>0</td>\n",
       "      <td>0</td>\n",
       "    </tr>\n",
       "    <tr>\n",
       "      <th>4</th>\n",
       "      <td>35</td>\n",
       "      <td>Male</td>\n",
       "      <td>45</td>\n",
       "      <td>4</td>\n",
       "      <td>1.0</td>\n",
       "      <td>2</td>\n",
       "      <td>0</td>\n",
       "      <td>0</td>\n",
       "      <td>0</td>\n",
       "      <td>0</td>\n",
       "      <td>1</td>\n",
       "      <td>0</td>\n",
       "    </tr>\n",
       "  </tbody>\n",
       "</table>\n",
       "</div>"
      ],
      "text/plain": [
       "   Age     Sex  Income  Family  CCAvg  Education  Mortgage  \\\n",
       "0   25  Female      49       4    1.6          1         0   \n",
       "1   45    Male      34       3    1.5          1         0   \n",
       "2   39  Female      11       1    1.0          1         0   \n",
       "3   35  Female     100       1    2.7          2         0   \n",
       "4   35    Male      45       4    1.0          2         0   \n",
       "\n",
       "   Securities Account  CD Account  Online  CreditCard  Personal Loan  \n",
       "0                   1           0       0           0              0  \n",
       "1                   1           0       0           0              0  \n",
       "2                   0           0       0           0              0  \n",
       "3                   0           0       0           0              0  \n",
       "4                   0           0       0           1              0  "
      ]
     },
     "execution_count": 78,
     "metadata": {},
     "output_type": "execute_result"
    }
   ],
   "source": [
    "df = pd.read_excel('Bank_done.xlsx')\n",
    "df.head(5)"
   ]
  },
  {
   "cell_type": "code",
   "execution_count": 79,
   "id": "daeed06a",
   "metadata": {},
   "outputs": [
    {
     "data": {
      "text/html": [
       "<div>\n",
       "<style scoped>\n",
       "    .dataframe tbody tr th:only-of-type {\n",
       "        vertical-align: middle;\n",
       "    }\n",
       "\n",
       "    .dataframe tbody tr th {\n",
       "        vertical-align: top;\n",
       "    }\n",
       "\n",
       "    .dataframe thead th {\n",
       "        text-align: right;\n",
       "    }\n",
       "</style>\n",
       "<table border=\"1\" class=\"dataframe\">\n",
       "  <thead>\n",
       "    <tr style=\"text-align: right;\">\n",
       "      <th></th>\n",
       "      <th>Age</th>\n",
       "      <th>Income</th>\n",
       "      <th>Family</th>\n",
       "      <th>CCAvg</th>\n",
       "      <th>Education</th>\n",
       "      <th>Mortgage</th>\n",
       "      <th>Securities Account</th>\n",
       "      <th>CD Account</th>\n",
       "      <th>Online</th>\n",
       "      <th>CreditCard</th>\n",
       "      <th>Personal Loan</th>\n",
       "      <th>Female</th>\n",
       "      <th>Male</th>\n",
       "    </tr>\n",
       "  </thead>\n",
       "  <tbody>\n",
       "    <tr>\n",
       "      <th>0</th>\n",
       "      <td>25</td>\n",
       "      <td>49</td>\n",
       "      <td>4</td>\n",
       "      <td>1.6</td>\n",
       "      <td>1</td>\n",
       "      <td>0</td>\n",
       "      <td>1</td>\n",
       "      <td>0</td>\n",
       "      <td>0</td>\n",
       "      <td>0</td>\n",
       "      <td>0</td>\n",
       "      <td>1</td>\n",
       "      <td>0</td>\n",
       "    </tr>\n",
       "    <tr>\n",
       "      <th>1</th>\n",
       "      <td>45</td>\n",
       "      <td>34</td>\n",
       "      <td>3</td>\n",
       "      <td>1.5</td>\n",
       "      <td>1</td>\n",
       "      <td>0</td>\n",
       "      <td>1</td>\n",
       "      <td>0</td>\n",
       "      <td>0</td>\n",
       "      <td>0</td>\n",
       "      <td>0</td>\n",
       "      <td>0</td>\n",
       "      <td>1</td>\n",
       "    </tr>\n",
       "    <tr>\n",
       "      <th>2</th>\n",
       "      <td>39</td>\n",
       "      <td>11</td>\n",
       "      <td>1</td>\n",
       "      <td>1.0</td>\n",
       "      <td>1</td>\n",
       "      <td>0</td>\n",
       "      <td>0</td>\n",
       "      <td>0</td>\n",
       "      <td>0</td>\n",
       "      <td>0</td>\n",
       "      <td>0</td>\n",
       "      <td>1</td>\n",
       "      <td>0</td>\n",
       "    </tr>\n",
       "    <tr>\n",
       "      <th>3</th>\n",
       "      <td>35</td>\n",
       "      <td>100</td>\n",
       "      <td>1</td>\n",
       "      <td>2.7</td>\n",
       "      <td>2</td>\n",
       "      <td>0</td>\n",
       "      <td>0</td>\n",
       "      <td>0</td>\n",
       "      <td>0</td>\n",
       "      <td>0</td>\n",
       "      <td>0</td>\n",
       "      <td>1</td>\n",
       "      <td>0</td>\n",
       "    </tr>\n",
       "    <tr>\n",
       "      <th>4</th>\n",
       "      <td>35</td>\n",
       "      <td>45</td>\n",
       "      <td>4</td>\n",
       "      <td>1.0</td>\n",
       "      <td>2</td>\n",
       "      <td>0</td>\n",
       "      <td>0</td>\n",
       "      <td>0</td>\n",
       "      <td>0</td>\n",
       "      <td>1</td>\n",
       "      <td>0</td>\n",
       "      <td>0</td>\n",
       "      <td>1</td>\n",
       "    </tr>\n",
       "  </tbody>\n",
       "</table>\n",
       "</div>"
      ],
      "text/plain": [
       "   Age  Income  Family  CCAvg  Education  Mortgage  Securities Account  \\\n",
       "0   25      49       4    1.6          1         0                   1   \n",
       "1   45      34       3    1.5          1         0                   1   \n",
       "2   39      11       1    1.0          1         0                   0   \n",
       "3   35     100       1    2.7          2         0                   0   \n",
       "4   35      45       4    1.0          2         0                   0   \n",
       "\n",
       "   CD Account  Online  CreditCard  Personal Loan  Female  Male  \n",
       "0           0       0           0              0       1     0  \n",
       "1           0       0           0              0       0     1  \n",
       "2           0       0           0              0       1     0  \n",
       "3           0       0           0              0       1     0  \n",
       "4           0       0           1              0       0     1  "
      ]
     },
     "execution_count": 79,
     "metadata": {},
     "output_type": "execute_result"
    }
   ],
   "source": [
    "a = pd.get_dummies(df['Sex'])\n",
    "df.drop(['Sex'], inplace=True, axis=1)\n",
    "df = df.join(a)\n",
    "df.head()"
   ]
  },
  {
   "cell_type": "code",
   "execution_count": 80,
   "id": "44a488a6",
   "metadata": {
    "scrolled": true
   },
   "outputs": [],
   "source": [
    "data_X = df[['Age','Female','Male','Income','Family','CCAvg','Education','Mortgage','Securities Account','CD Account','Online','CreditCard']]\n",
    "data_Y = df[['Personal Loan']]"
   ]
  },
  {
   "cell_type": "markdown",
   "id": "2c295825",
   "metadata": {},
   "source": [
    "### Chia dữ liệu"
   ]
  },
  {
   "cell_type": "code",
   "execution_count": 81,
   "id": "4c103c19",
   "metadata": {
    "scrolled": true
   },
   "outputs": [],
   "source": [
    "from sklearn.model_selection import train_test_split"
   ]
  },
  {
   "cell_type": "code",
   "execution_count": 82,
   "id": "84ef3972",
   "metadata": {
    "scrolled": true
   },
   "outputs": [],
   "source": [
    "x_train, x_test, y_train, y_test = train_test_split(\n",
    "                                    data_X,data_Y, test_size= 0.3)"
   ]
  },
  {
   "cell_type": "code",
   "execution_count": 83,
   "id": "14e57906",
   "metadata": {
    "scrolled": true
   },
   "outputs": [
    {
     "name": "stdout",
     "output_type": "stream",
     "text": [
      "Số dòng dùng để đào tạo mô hình:  3500\n",
      "Số dòng dùng để thử nghiệm mô hình:  1500\n"
     ]
    }
   ],
   "source": [
    "print('Số dòng dùng để đào tạo mô hình: ', len(x_train))\n",
    "print('Số dòng dùng để thử nghiệm mô hình: ', len(x_test))"
   ]
  },
  {
   "cell_type": "markdown",
   "id": "60cc08a4",
   "metadata": {},
   "source": [
    "### Lựa chọn các biến mang lại giá trị thông tin "
   ]
  },
  {
   "cell_type": "code",
   "execution_count": 84,
   "id": "14cba6c3",
   "metadata": {
    "scrolled": true
   },
   "outputs": [],
   "source": [
    "from sklearn.feature_selection import mutual_info_classif\n",
    "values = mutual_info_classif(x_train, y_train)"
   ]
  },
  {
   "cell_type": "code",
   "execution_count": 121,
   "id": "6265bdc1",
   "metadata": {},
   "outputs": [
    {
     "data": {
      "text/plain": [
       "Text(0, 0.5, 'Mutual Information')"
      ]
     },
     "execution_count": 121,
     "metadata": {},
     "output_type": "execute_result"
    },
    {
     "data": {
      "image/png": "[encoded data removed]",
      "text/plain": [
       "<Figure size 1728x720 with 1 Axes>"
      ]
     },
     "metadata": {
      "needs_background": "light"
     },
     "output_type": "display_data"
    }
   ],
   "source": [
    "from sklearn.feature_selection import SelectKBest\n",
    "values = pd.Series(values)\n",
    "values.index = x_train.columns\n",
    "values.sort_values(ascending=False).plot.bar(figsize=(24, 10))\n",
    "plt.ylabel('Mutual Information')"
   ]
  },
  {
   "cell_type": "markdown",
   "id": "c9ff7dff",
   "metadata": {},
   "source": [
    "- Có một số tính năng có giá trị thông tin lẫn nhau cao. Ngoài ra cũng có các tính năng có giá trị thông tin lẫn nhau thấp gần như bằng 0.\n",
    "- Dựa vào đó ta chọn các tính năng: chọn k tính năng có chỉ sô giá trị thông tin lẫn nhau cao."
   ]
  },
  {
   "cell_type": "code",
   "execution_count": 86,
   "id": "de1c6bab",
   "metadata": {
    "scrolled": true
   },
   "outputs": [],
   "source": [
    "y_train_1 = y_train[y_train['Personal Loan'] == 1]"
   ]
  },
  {
   "cell_type": "code",
   "execution_count": 87,
   "id": "62447f95",
   "metadata": {
    "scrolled": true
   },
   "outputs": [],
   "source": [
    "y_train_0 = y_train[y_train['Personal Loan'] == 0]"
   ]
  },
  {
   "cell_type": "markdown",
   "id": "9f9c78f4",
   "metadata": {},
   "source": [
    "- Ở đây chúng ta có thể thấy dữ liệu bị mất cân bằng. Nhãn '0' nhiều hơn nhãn '1'. Vì vậy chúng ta cần CÂN BẰNG DỮ LIỆU để mô hình được đào tạo tốt hơn\n"
   ]
  },
  {
   "cell_type": "code",
   "execution_count": 88,
   "id": "4ad56f27",
   "metadata": {
    "scrolled": true
   },
   "outputs": [
    {
     "name": "stdout",
     "output_type": "stream",
     "text": [
      "Trước khi cân bằng dữ liệu, số dòng thuộc nhãn '1': 331\n",
      "Trước khi cân bằng dữ liệu, số dòng thuộc nhãn '0': 3169\n"
     ]
    }
   ],
   "source": [
    "print(\"Trước khi cân bằng dữ liệu, số dòng thuộc nhãn '1':\", len(y_train_1))\n",
    "print(\"Trước khi cân bằng dữ liệu, số dòng thuộc nhãn '0':\", len(y_train_0)) "
   ]
  },
  {
   "cell_type": "markdown",
   "id": "b5d37bc0",
   "metadata": {},
   "source": [
    "### Cân bằng dữ liệu"
   ]
  },
  {
   "cell_type": "code",
   "execution_count": 122,
   "id": "9b7bc6f5",
   "metadata": {
    "scrolled": true
   },
   "outputs": [],
   "source": [
    "from imblearn.over_sampling import SMOTE\n",
    "sm = SMOTE(random_state = 2)\n",
    "x_train_res, y_train_res = sm.fit_resample(x_train, y_train)"
   ]
  },
  {
   "cell_type": "code",
   "execution_count": 123,
   "id": "eee0ebbe",
   "metadata": {
    "scrolled": true
   },
   "outputs": [],
   "source": [
    "# pip install imblearn"
   ]
  },
  {
   "cell_type": "code",
   "execution_count": 124,
   "id": "75855625",
   "metadata": {
    "scrolled": true
   },
   "outputs": [],
   "source": [
    "y_train_res_1 = y_train_res[y_train_res['Personal Loan'] == 1]\n",
    "y_train_res_0 = y_train_res[y_train_res['Personal Loan'] == 0]"
   ]
  },
  {
   "cell_type": "code",
   "execution_count": 125,
   "id": "6bc958c8",
   "metadata": {
    "scrolled": true
   },
   "outputs": [
    {
     "name": "stdout",
     "output_type": "stream",
     "text": [
      "Sau khi cân bằng dữ liệu, số dòng thuộc nhãn '1': 3169\n",
      "Sau khi cân bằng dữ liệu, số dòng thuộc nhãn '0': 3169\n"
     ]
    }
   ],
   "source": [
    "print(\"Sau khi cân bằng dữ liệu, số dòng thuộc nhãn '1':\", len(y_train_res_1 == 1))\n",
    "print(\"Sau khi cân bằng dữ liệu, số dòng thuộc nhãn '0':\", len(y_train_res_0 == 0))"
   ]
  },
  {
   "cell_type": "code",
   "execution_count": 93,
   "id": "43edca04",
   "metadata": {
    "scrolled": true
   },
   "outputs": [
    {
     "name": "stdout",
     "output_type": "stream",
     "text": [
      "Lượng dữ liệu ban đầu:  3500\n",
      "Lượng dữ liệu sau khi đã cân bằng 6338\n"
     ]
    }
   ],
   "source": [
    "print('Lượng dữ liệu ban đầu: ', len(x_train))\n",
    "print('Lượng dữ liệu sau khi đã cân bằng', len(x_train_res))"
   ]
  },
  {
   "cell_type": "markdown",
   "id": "c9905618",
   "metadata": {},
   "source": [
    "### Chuẩn hóa dữ liệu "
   ]
  },
  {
   "cell_type": "code",
   "execution_count": 94,
   "id": "f0a370f5",
   "metadata": {
    "scrolled": true
   },
   "outputs": [],
   "source": [
    "from sklearn.preprocessing import StandardScaler"
   ]
  },
  {
   "cell_type": "markdown",
   "id": "1f494732",
   "metadata": {},
   "source": [
    "### Hồi quy Log"
   ]
  },
  {
   "cell_type": "code",
   "execution_count": 95,
   "id": "6a9ddbb4",
   "metadata": {
    "scrolled": true
   },
   "outputs": [],
   "source": [
    "from sklearn.linear_model import LogisticRegression"
   ]
  },
  {
   "cell_type": "code",
   "execution_count": 96,
   "id": "89baf279",
   "metadata": {
    "scrolled": true
   },
   "outputs": [],
   "source": [
    "classifier = LogisticRegression(random_state = 0)\n",
    "classifier.fit(x_train_res, y_train_res)\n",
    "y_pred = classifier.predict(x_test)"
   ]
  },
  {
   "cell_type": "code",
   "execution_count": 97,
   "id": "6308945f-9c8c-40a4-9413-3821ce6e668f",
   "metadata": {},
   "outputs": [],
   "source": [
    "y_test = y_test['Personal Loan'].values"
   ]
  },
  {
   "cell_type": "code",
   "execution_count": 126,
   "id": "df505766",
   "metadata": {},
   "outputs": [
    {
     "data": {
      "text/html": [
       "<div>\n",
       "<style scoped>\n",
       "    .dataframe tbody tr th:only-of-type {\n",
       "        vertical-align: middle;\n",
       "    }\n",
       "\n",
       "    .dataframe tbody tr th {\n",
       "        vertical-align: top;\n",
       "    }\n",
       "\n",
       "    .dataframe thead th {\n",
       "        text-align: right;\n",
       "    }\n",
       "</style>\n",
       "<table border=\"1\" class=\"dataframe\">\n",
       "  <thead>\n",
       "    <tr style=\"text-align: right;\">\n",
       "      <th></th>\n",
       "      <th>True values</th>\n",
       "      <th>y_pred</th>\n",
       "    </tr>\n",
       "  </thead>\n",
       "  <tbody>\n",
       "    <tr>\n",
       "      <th>1415</th>\n",
       "      <td>0</td>\n",
       "      <td>0</td>\n",
       "    </tr>\n",
       "    <tr>\n",
       "      <th>1402</th>\n",
       "      <td>0</td>\n",
       "      <td>0</td>\n",
       "    </tr>\n",
       "    <tr>\n",
       "      <th>142</th>\n",
       "      <td>0</td>\n",
       "      <td>0</td>\n",
       "    </tr>\n",
       "    <tr>\n",
       "      <th>609</th>\n",
       "      <td>0</td>\n",
       "      <td>1</td>\n",
       "    </tr>\n",
       "    <tr>\n",
       "      <th>1434</th>\n",
       "      <td>0</td>\n",
       "      <td>0</td>\n",
       "    </tr>\n",
       "    <tr>\n",
       "      <th>909</th>\n",
       "      <td>1</td>\n",
       "      <td>0</td>\n",
       "    </tr>\n",
       "    <tr>\n",
       "      <th>693</th>\n",
       "      <td>0</td>\n",
       "      <td>1</td>\n",
       "    </tr>\n",
       "    <tr>\n",
       "      <th>358</th>\n",
       "      <td>0</td>\n",
       "      <td>0</td>\n",
       "    </tr>\n",
       "    <tr>\n",
       "      <th>1341</th>\n",
       "      <td>0</td>\n",
       "      <td>1</td>\n",
       "    </tr>\n",
       "    <tr>\n",
       "      <th>1268</th>\n",
       "      <td>0</td>\n",
       "      <td>1</td>\n",
       "    </tr>\n",
       "  </tbody>\n",
       "</table>\n",
       "</div>"
      ],
      "text/plain": [
       "      True values   y_pred\n",
       "1415             0       0\n",
       "1402             0       0\n",
       "142              0       0\n",
       "609              0       1\n",
       "1434             0       0\n",
       "909              1       0\n",
       "693              0       1\n",
       "358              0       0\n",
       "1341             0       1\n",
       "1268             0       1"
      ]
     },
     "execution_count": 126,
     "metadata": {},
     "output_type": "execute_result"
    }
   ],
   "source": [
    "#dự đoán 20 người bất kì \n",
    "DD = pd.DataFrame({'True values ':y_test ,'y_pred':predictions})\n",
    "DD.sample(10)"
   ]
  },
  {
   "cell_type": "code",
   "execution_count": 99,
   "id": "17e29623-01b2-4b19-8f0c-d82f1ed07e8a",
   "metadata": {},
   "outputs": [],
   "source": [
    "def predict(x_input):\n",
    "    classifier = LogisticRegression(random_state = 0)\n",
    "    classifier.fit(x_train_res, y_train_res)\n",
    "    y_pred = classifier.predict(x_test)\n",
    "    return y_pred"
   ]
  },
  {
   "cell_type": "markdown",
   "id": "f4da4b89",
   "metadata": {},
   "source": [
    "* Hướng dẫn nhập dự đoán: \n",
    "- Thu nhập hằng tháng tính bằng đô\n",
    "- Trình độ học vấn : khoảng từ 1 đến 3 tương ứng là Dưới Đại học, Cao học và Sau đại học \n",
    "- CCAvg : trung bình chi tiêu 1 tháng tính bằng ('$')\n",
    "- mortgage rate: Trị giá khi nhà được chủ sở hữu mang đi cầm \n",
    "- KH có sử dụng tài khoản chứng khoán : có nhập 1 ngược lại nhập 0 \n",
    "- KH có chứng chỉ tài khoản tiền gửi (CD) với ngân hàng: có nhập 1 ngược lại nhập 0 \n",
    "- KH có sử dụng thẻ tín dụng do ngân hàng phát hành: có nhập 1 ngược lại nhập 0 \n",
    "- KH có sử dụng các tiện ích trực tuyến của ngân hàng: có nhập 1 ngược lại nhập 0 \n"
   ]
  },
  {
   "cell_type": "code",
   "execution_count": 100,
   "id": "1527b42a-8251-4c5e-ab9d-c35d4aa6c452",
   "metadata": {},
   "outputs": [],
   "source": [
    "def main():\n",
    "    age                 = int(input(\"Độ tuổi của bạn : \"))\n",
    "    income              = float(input(\"Thu nhập của bạn: \"))\n",
    "    sex_female          = int(input(\"Nhập 1 nếu bạn là nữ, 0 nếu là nam: \"))\n",
    "    sex_male            = int(input(\"Nhập 1 nếu bạn là nam, 0 nếu là nữ: \"))\n",
    "    family              = int(input(\"Số người trong gia đình bạn: \"))\n",
    "    education           = int(input(\"Trình độ học vấn của bạn : \"))\n",
    "    ccavg               = float(input(\"Trung bình chi tiêu bằng thẻ tín dụng mỗi tháng: \"))\n",
    "    mortgage            = int(input(\"Giá trị thuế chấp của căn nhà nếu có: \"))\n",
    "    securities_account  = int(input(\"Bạn có sử dụng tài khoản tại ngân hàng:\"))\n",
    "    CD_account          = int(input(\"Bạn có tài khoản tiền gửi ngân hàng: \"))\n",
    "    credit_card         = int(input(\"Bạn có sử dụng thẻ tín dụng do ngân hàng phát hành: \"))\n",
    "    online              = int(input(\"Bạn có sử dụng các tiện ích trực tuyến của ngân hàng: \"))\n",
    "    x_input = [[age, sex_female, sex_male, income, family, ccavg, mortgage, \n",
    "                education,securities_account, CD_account, credit_card, online]]\n",
    "                               \n",
    "    result = predict(x_input)    \n",
    "    print('Kết quả nhận được là:',result[0])\n",
    "    "
   ]
  },
  {
   "cell_type": "code",
   "execution_count": 52,
   "id": "51cc684d",
   "metadata": {},
   "outputs": [
    {
     "name": "stdout",
     "output_type": "stream",
     "text": [
      "Bạn đang nhập các chỉ số! \n",
      "Độ tuổi của bạn : 40\n",
      "Thu nhập của bạn: 60\n",
      "Nhập 1 nếu bạn là nữ, 0 nếu là nam: 0\n",
      "Nhập 1 nếu bạn là nam, 0 nếu là nữ: 1\n",
      "Số người trong gia đình bạn: 4\n",
      "Trình độ học vấn của bạn : 3\n",
      "Trung bình chi tiêu bằng thẻ tín dụng mỗi tháng: 4.0\n",
      "Giá trị thuế chấp của căn nhà nếu có: 200\n",
      "Bạn có sử dụng tài khoản tại ngân hàng:1\n",
      "Bạn có tài khoản tiền gửi ngân hàng: 1\n",
      "Bạn có sử dụng thẻ tín dụng do ngân hàng phát hành: 1\n",
      "Bạn có sử dụng các tiện ích trực tuyến của ngân hàng: 1\n",
      "Kết quả nhận được là: 0\n"
     ]
    }
   ],
   "source": [
    "print('Bạn đang nhập các chỉ số! ')\n",
    "if __name__ == \"__main__\":\n",
    "    main()"
   ]
  },
  {
   "cell_type": "code",
   "execution_count": 101,
   "id": "fcd2efaf",
   "metadata": {
    "scrolled": true
   },
   "outputs": [],
   "source": [
    "from sklearn import metrics"
   ]
  },
  {
   "cell_type": "markdown",
   "id": "2d89b70b",
   "metadata": {},
   "source": [
    "### Các chỉ số đánh giá mô hình: "
   ]
  },
  {
   "cell_type": "markdown",
   "id": "2ed3415c",
   "metadata": {},
   "source": [
    "a. Độ chính xác"
   ]
  },
  {
   "cell_type": "code",
   "execution_count": 102,
   "id": "503670ac",
   "metadata": {},
   "outputs": [
    {
     "name": "stdout",
     "output_type": "stream",
     "text": [
      "Độ chính xác của mô hình: 90.00 %\n"
     ]
    }
   ],
   "source": [
    "print(\"Độ chính xác của mô hình: {:.2f} %\"\n",
    "      .format(metrics.accuracy_score(y_test, y_pred)*100))"
   ]
  },
  {
   "cell_type": "markdown",
   "id": "71fc336f",
   "metadata": {},
   "source": [
    "b. Confusion_matrix"
   ]
  },
  {
   "cell_type": "code",
   "execution_count": 103,
   "id": "6ddc97e5",
   "metadata": {},
   "outputs": [],
   "source": [
    "from sklearn.metrics import (confusion_matrix, recall_score, \n",
    "                            precision_score , f1_score , \n",
    "                            accuracy_score, roc_auc_score)"
   ]
  },
  {
   "cell_type": "code",
   "execution_count": 104,
   "id": "f379d593",
   "metadata": {
    "scrolled": true
   },
   "outputs": [
    {
     "name": "stdout",
     "output_type": "stream",
     "text": [
      "[[1233  118]\n",
      " [  32  117]]\n"
     ]
    },
    {
     "data": {
      "text/plain": [
       "<AxesSubplot:>"
      ]
     },
     "execution_count": 104,
     "metadata": {},
     "output_type": "execute_result"
    },
    {
     "data": {
      "image/png": "[encoded data removed]",
      "text/plain": [
       "<Figure size 432x288 with 2 Axes>"
      ]
     },
     "metadata": {
      "needs_background": "light"
     },
     "output_type": "display_data"
    }
   ],
   "source": [
    "ccb = confusion_matrix(y_test, y_pred)\n",
    "print(ccb)\n",
    "sns.heatmap(confusion_matrix(y_test,y_pred)\n",
    "            ,annot=True,fmt='')"
   ]
  },
  {
   "cell_type": "markdown",
   "id": "018a2f22",
   "metadata": {},
   "source": [
    "c. Các chỉ số đánh giá hiệu suất mô hình khác:"
   ]
  },
  {
   "cell_type": "code",
   "execution_count": 105,
   "id": "8f0999f3",
   "metadata": {
    "scrolled": true
   },
   "outputs": [
    {
     "name": "stdout",
     "output_type": "stream",
     "text": [
      "              precision    recall  f1-score   support\n",
      "\n",
      "           0       0.97      0.91      0.94      1351\n",
      "           1       0.50      0.79      0.61       149\n",
      "\n",
      "    accuracy                           0.90      1500\n",
      "   macro avg       0.74      0.85      0.78      1500\n",
      "weighted avg       0.93      0.90      0.91      1500\n",
      "\n"
     ]
    }
   ],
   "source": [
    "from sklearn.metrics import classification_report\n",
    "print(classification_report(y_test, y_pred))"
   ]
  },
  {
   "cell_type": "markdown",
   "id": "dc078a7d",
   "metadata": {},
   "source": [
    "d. Đường cong ROC "
   ]
  },
  {
   "cell_type": "code",
   "execution_count": 106,
   "id": "cbccdef7",
   "metadata": {
    "scrolled": true
   },
   "outputs": [],
   "source": [
    "from sklearn.metrics import roc_curve, auc\n",
    "\n",
    "#---find the predicted probabilities using the test set\n",
    "probs = classifier.predict_proba(x_test)\n",
    "preds = probs[:,1]\n",
    "\n",
    "#---find the FPR, TPR, and threshold---\n",
    "fpr, tpr, threshold = roc_curve(y_test, preds)"
   ]
  },
  {
   "cell_type": "code",
   "execution_count": 107,
   "id": "e31e6c72",
   "metadata": {
    "scrolled": true
   },
   "outputs": [
    {
     "name": "stdout",
     "output_type": "stream",
     "text": [
      "Roc Auc Score:  0.9374214476972065\n"
     ]
    }
   ],
   "source": [
    "print(\"Roc Auc Score: \", roc_auc_score(y_test,preds))"
   ]
  },
  {
   "cell_type": "code",
   "execution_count": 112,
   "id": "efa8a228",
   "metadata": {
    "scrolled": true
   },
   "outputs": [
    {
     "data": {
      "image/png": "[encoded data removed]",
      "text/plain": [
       "<Figure size 432x288 with 1 Axes>"
      ]
     },
     "metadata": {
      "needs_background": "light"
     },
     "output_type": "display_data"
    }
   ],
   "source": [
    "roc_auc = auc(fpr, tpr)\n",
    "\n",
    "import matplotlib.pyplot as plt\n",
    "plt.plot(fpr, tpr, 'b', label = 'AUC = %0.2f' % roc_auc)\n",
    "plt.plot([0, 1], [0, 1],'r--')\n",
    "plt.xlim([0, 1])\n",
    "plt.ylim([0, 1])\n",
    "plt.ylabel('True Positive Rate (TPR)')\n",
    "plt.xlabel('False Positive Rate (FPR)')\n",
    "plt.title(' Đường cong ROC')\n",
    "plt.legend(loc = 'lower right')\n",
    "plt.show()"
   ]
  },
  {
   "cell_type": "markdown",
   "id": "716a04c6",
   "metadata": {},
   "source": [
    "e. Chỉ số hồi quy "
   ]
  },
  {
   "cell_type": "code",
   "execution_count": 113,
   "id": "2a23f44c",
   "metadata": {},
   "outputs": [],
   "source": [
    "from sklearn import metrics\n",
    "from sklearn.metrics import mean_absolute_error, mean_squared_error, r2_score"
   ]
  },
  {
   "cell_type": "code",
   "execution_count": 114,
   "id": "7a4e565e",
   "metadata": {},
   "outputs": [
    {
     "name": "stdout",
     "output_type": "stream",
     "text": [
      "Mean Absolute Error:  0.1\n",
      "Root Mean Squared Error:  0.31622776601683794\n"
     ]
    }
   ],
   "source": [
    "print('Mean Absolute Error: ', metrics.mean_absolute_error(y_test,y_pred))\n",
    "print('Root Mean Squared Error: ', np.sqrt(metrics.mean_squared_error(y_test,y_pred)))"
   ]
  },
  {
   "cell_type": "markdown",
   "id": "9625fd70",
   "metadata": {},
   "source": [
    "### Xây dựng các mô hình khác: "
   ]
  },
  {
   "cell_type": "markdown",
   "id": "d4b79034",
   "metadata": {},
   "source": [
    "1. SVM \n",
    "- a. Xây dựng mô hình"
   ]
  },
  {
   "cell_type": "code",
   "execution_count": 115,
   "id": "3d3cbb90",
   "metadata": {
    "scrolled": true
   },
   "outputs": [],
   "source": [
    "from sklearn.svm import SVC\n",
    "SVMclassifier = SVC(kernel = 'linear', random_state = 0)\n",
    "SVMclassifier.fit(x_train_res, y_train_res)\n",
    "y_pred_2 = SVMclassifier.predict(x_test)"
   ]
  },
  {
   "cell_type": "markdown",
   "id": "e22bc49f",
   "metadata": {},
   "source": [
    "- b . Độ chính xác"
   ]
  },
  {
   "cell_type": "code",
   "execution_count": 116,
   "id": "224cd94a",
   "metadata": {},
   "outputs": [
    {
     "name": "stdout",
     "output_type": "stream",
     "text": [
      "Độ chính xác của mô hình: 90.00 %\n"
     ]
    }
   ],
   "source": [
    "print(\"Độ chính xác của mô hình: {:.2f} %\"\n",
    "      .format(metrics.accuracy_score(y_test, y_pred_2)*100))"
   ]
  },
  {
   "cell_type": "markdown",
   "id": "f9f561ae",
   "metadata": {},
   "source": [
    "- c. Ma trận nhầm lẫn"
   ]
  },
  {
   "cell_type": "code",
   "execution_count": 71,
   "id": "404f610d",
   "metadata": {
    "scrolled": true
   },
   "outputs": [
    {
     "name": "stdout",
     "output_type": "stream",
     "text": [
      "[[1263  102]\n",
      " [  23  112]]\n"
     ]
    },
    {
     "data": {
      "text/plain": [
       "<AxesSubplot:>"
      ]
     },
     "execution_count": 71,
     "metadata": {},
     "output_type": "execute_result"
    },
    {
     "data": {
      "image/png": "[encoded data removed]",
      "text/plain": [
       "<Figure size 432x288 with 2 Axes>"
      ]
     },
     "metadata": {
      "needs_background": "light"
     },
     "output_type": "display_data"
    }
   ],
   "source": [
    "model_2= confusion_matrix(y_test, y_pred_2)\n",
    "print(model_2)\n",
    "sns.heatmap(confusion_matrix(y_test,y_pred_2)\n",
    "            ,annot=True,fmt='')"
   ]
  },
  {
   "cell_type": "markdown",
   "id": "f7c3d6f9",
   "metadata": {},
   "source": [
    "2. DecisionTree: "
   ]
  },
  {
   "cell_type": "code",
   "execution_count": 73,
   "id": "ca3747d2",
   "metadata": {},
   "outputs": [
    {
     "data": {
      "text/plain": [
       "DecisionTreeClassifier()"
      ]
     },
     "execution_count": 73,
     "metadata": {},
     "output_type": "execute_result"
    }
   ],
   "source": [
    "from sklearn import tree\n",
    "from sklearn.tree import DecisionTreeClassifier\n",
    "decision_tree = tree.DecisionTreeClassifier(criterion = 'gini')\n",
    "decision_tree.fit(x_train_res,y_train_res)"
   ]
  },
  {
   "cell_type": "code",
   "execution_count": 131,
   "id": "d5663d39",
   "metadata": {},
   "outputs": [
    {
     "name": "stdout",
     "output_type": "stream",
     "text": [
      "Độ chính xác của mô hình: 99.07 %\n"
     ]
    }
   ],
   "source": [
    "y_pred_3 = decision_tree.predict(x_test)\n",
    "print(\"Độ chính xác của mô hình: {:.2f} %\"\n",
    "      .format(metrics.accuracy_score(y_test, y_pred_3)*100))"
   ]
  },
  {
   "cell_type": "code",
   "execution_count": 132,
   "id": "cb75fbeb",
   "metadata": {},
   "outputs": [
    {
     "name": "stdout",
     "output_type": "stream",
     "text": [
      "              precision    recall  f1-score   support\n",
      "\n",
      "           0       1.00      0.99      0.99      1351\n",
      "           1       0.93      0.98      0.95       149\n",
      "\n",
      "    accuracy                           0.99      1500\n",
      "   macro avg       0.96      0.99      0.97      1500\n",
      "weighted avg       0.99      0.99      0.99      1500\n",
      "\n",
      "Ma trận nhầm lẫn \n",
      "[[1340   11]\n",
      " [   3  146]]\n"
     ]
    },
    {
     "data": {
      "text/plain": [
       "<AxesSubplot:>"
      ]
     },
     "execution_count": 132,
     "metadata": {},
     "output_type": "execute_result"
    },
    {
     "data": {
      "image/png": "[encoded data removed]",
      "text/plain": [
       "<Figure size 432x288 with 2 Axes>"
      ]
     },
     "metadata": {
      "needs_background": "light"
     },
     "output_type": "display_data"
    }
   ],
   "source": [
    "print(classification_report(y_test,y_pred_3))\n",
    "print(\"Ma trận nhầm lẫn \")\n",
    "model_3= confusion_matrix(y_test, y_pred_3)\n",
    "print(model_3)\n",
    "sns.heatmap(confusion_matrix(y_test,y_pred_3)\n",
    "            ,annot=True,fmt='')"
   ]
  },
  {
   "cell_type": "markdown",
   "id": "b63638cd",
   "metadata": {},
   "source": [
    "3. Random Forest"
   ]
  },
  {
   "cell_type": "code",
   "execution_count": 75,
   "id": "c41318e4",
   "metadata": {},
   "outputs": [
    {
     "data": {
      "text/plain": [
       "RandomForestClassifier(max_depth=8, n_estimators=500)"
      ]
     },
     "execution_count": 75,
     "metadata": {},
     "output_type": "execute_result"
    }
   ],
   "source": [
    "from sklearn.ensemble import RandomForestClassifier\n",
    "RFClassifier = RandomForestClassifier(n_estimators=500, max_depth=8)\n",
    "RFClassifier.fit(x_train_res,y_train_res)"
   ]
  },
  {
   "cell_type": "code",
   "execution_count": 135,
   "id": "e60cd364",
   "metadata": {},
   "outputs": [
    {
     "name": "stdout",
     "output_type": "stream",
     "text": [
      "Độ chính xác của mô hình: 98.33 %\n"
     ]
    }
   ],
   "source": [
    "y_pred_4 = RFClassifier.predict(x_test)\n",
    "print(\"Độ chính xác của mô hình: {:.2f} %\"\n",
    "      .format(metrics.accuracy_score(y_test, y_pred_4)*100))"
   ]
  },
  {
   "cell_type": "code",
   "execution_count": 134,
   "id": "edf96eee",
   "metadata": {},
   "outputs": [
    {
     "name": "stdout",
     "output_type": "stream",
     "text": [
      "              precision    recall  f1-score   support\n",
      "\n",
      "           0       1.00      0.98      0.99      1351\n",
      "           1       0.86      0.99      0.92       149\n",
      "\n",
      "    accuracy                           0.98      1500\n",
      "   macro avg       0.93      0.98      0.96      1500\n",
      "weighted avg       0.99      0.98      0.98      1500\n",
      "\n",
      "Ma trận nhầm lẫn \n",
      "[[1328   23]\n",
      " [   2  147]]\n"
     ]
    },
    {
     "data": {
      "text/plain": [
       "<AxesSubplot:>"
      ]
     },
     "execution_count": 134,
     "metadata": {},
     "output_type": "execute_result"
    },
    {
     "data": {
      "image/png": "[encoded data removed]",
      "text/plain": [
       "<Figure size 432x288 with 2 Axes>"
      ]
     },
     "metadata": {
      "needs_background": "light"
     },
     "output_type": "display_data"
    }
   ],
   "source": [
    "print(classification_report(y_test,y_pred_4))\n",
    "print(\"Ma trận nhầm lẫn \")\n",
    "model_4= confusion_matrix(y_test, y_pred_4)\n",
    "print(model_4)\n",
    "sns.heatmap(confusion_matrix(y_test,y_pred_4)\n",
    "            ,annot=True,fmt='')"
   ]
  },
  {
   "cell_type": "markdown",
   "id": "1543eefc",
   "metadata": {},
   "source": [
    "4. Naive Bayes"
   ]
  },
  {
   "cell_type": "code",
   "execution_count": 119,
   "id": "4fa1673b",
   "metadata": {},
   "outputs": [
    {
     "data": {
      "text/plain": [
       "GaussianNB()"
      ]
     },
     "execution_count": 119,
     "metadata": {},
     "output_type": "execute_result"
    }
   ],
   "source": [
    "from sklearn.naive_bayes import GaussianNB\n",
    "GaussianNB_model = GaussianNB()\n",
    "GaussianNB_model.fit(x_train_res,y_train_res)"
   ]
  },
  {
   "cell_type": "code",
   "execution_count": 136,
   "id": "a6b992bd",
   "metadata": {},
   "outputs": [
    {
     "name": "stdout",
     "output_type": "stream",
     "text": [
      "Độ chính xác của mô hình: 86.13 %\n"
     ]
    }
   ],
   "source": [
    "y_pred_5 = GaussianNB_model.predict(x_test)\n",
    "print(\"Độ chính xác của mô hình: {:.2f} %\"\n",
    "      .format(metrics.accuracy_score(y_test, y_pred_5)*100))"
   ]
  },
  {
   "cell_type": "code",
   "execution_count": 137,
   "id": "8be56a96",
   "metadata": {},
   "outputs": [
    {
     "name": "stdout",
     "output_type": "stream",
     "text": [
      "              precision    recall  f1-score   support\n",
      "\n",
      "           0       0.97      0.88      0.92      1351\n",
      "           1       0.39      0.72      0.51       149\n",
      "\n",
      "    accuracy                           0.86      1500\n",
      "   macro avg       0.68      0.80      0.71      1500\n",
      "weighted avg       0.91      0.86      0.88      1500\n",
      "\n",
      "Ma trận nhầm lẫn \n",
      "[[1184  167]\n",
      " [  41  108]]\n"
     ]
    },
    {
     "data": {
      "text/plain": [
       "<AxesSubplot:>"
      ]
     },
     "execution_count": 137,
     "metadata": {},
     "output_type": "execute_result"
    },
    {
     "data": {
      "image/png": "[encoded data removed]",
      "text/plain": [
       "<Figure size 432x288 with 2 Axes>"
      ]
     },
     "metadata": {
      "needs_background": "light"
     },
     "output_type": "display_data"
    }
   ],
   "source": [
    "print(classification_report(y_test,y_pred_5))\n",
    "print(\"Ma trận nhầm lẫn \")\n",
    "model_5= confusion_matrix(y_test, y_pred_5)\n",
    "print(model_5)\n",
    "sns.heatmap(confusion_matrix(y_test,y_pred_5)\n",
    "            ,annot=True,fmt='')"
   ]
  }
 ],
 "metadata": {
  "kernelspec": {
   "display_name": "Python 3 (ipykernel)",
   "language": "python",
   "name": "python3"
  },
  "language_info": {
   "codemirror_mode": {
    "name": "ipython",
    "version": 3
   },
   "file_extension": ".py",
   "mimetype": "text/x-python",
   "name": "python",
   "nbconvert_exporter": "python",
   "pygments_lexer": "ipython3",
   "version": "3.9.12"
  }
 },
 "nbformat": 4,
 "nbformat_minor": 5
}
